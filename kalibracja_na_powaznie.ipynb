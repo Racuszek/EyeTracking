{
 "cells": [
  {
   "cell_type": "code",
   "execution_count": 40,
   "metadata": {},
   "outputs": [],
   "source": [
    "import pandas as pd\n",
    "from matplotlib import pyplot as plt\n",
    "import numpy as np\n",
    "from scipy.optimize import curve_fit\n",
    "%matplotlib inline"
   ]
  },
  {
   "cell_type": "code",
   "execution_count": 42,
   "metadata": {},
   "outputs": [],
   "source": [
    "filename = 'data/zofia_jogurt_kalib_2.txt'\n",
    "df = pd.read_csv(filename, sep = '\\t', header = 8, index_col=0)\n",
    "try:\n",
    "    df = df.drop(columns= ['Mic'])\n",
    "except KeyError as e:\n",
    "    pass"
   ]
  },
  {
   "cell_type": "code",
   "execution_count": 43,
   "metadata": {},
   "outputs": [],
   "source": [
    "mid1 = df.iloc[:int(len(df)/6*0.9), :]\n",
    "mid2 = df.iloc[int(len(df)/6 * 5.1) :, :]\n",
    "lg = df.iloc[int(len(df)/6 * 1.1) : int(len(df)/6 * 1.9), :]\n",
    "pg = df.iloc[int(len(df)/6 * 2.1) : int(len(df)/6 * 2.9), :]\n",
    "ld = df.iloc[int(len(df)/6 * 3.1) : int(len(df)/6 * 3.9), :]\n",
    "pdolny = df.iloc[int(len(df)/6 * 4.1) : int(len(df)/6 * 4.9), :]"
   ]
  },
  {
   "cell_type": "code",
   "execution_count": 44,
   "metadata": {
    "scrolled": true
   },
   "outputs": [
    {
     "data": {
      "text/plain": [
       "Eye_X    1032\n",
       "Eye_Y    1911\n",
       "dtype: int64"
      ]
     },
     "execution_count": 44,
     "metadata": {},
     "output_type": "execute_result"
    }
   ],
   "source": [
    "m1 = mid1.mode()\n",
    "m2 = mid2.mode()\n",
    "m = m1.append(m2).mean().astype('int')\n",
    "m\n"
   ]
  },
  {
   "cell_type": "code",
   "execution_count": 45,
   "metadata": {},
   "outputs": [
    {
     "data": {
      "text/html": [
       "<div>\n",
       "<style scoped>\n",
       "    .dataframe tbody tr th:only-of-type {\n",
       "        vertical-align: middle;\n",
       "    }\n",
       "\n",
       "    .dataframe tbody tr th {\n",
       "        vertical-align: top;\n",
       "    }\n",
       "\n",
       "    .dataframe thead th {\n",
       "        text-align: right;\n",
       "    }\n",
       "</style>\n",
       "<table border=\"1\" class=\"dataframe\">\n",
       "  <thead>\n",
       "    <tr style=\"text-align: right;\">\n",
       "      <th></th>\n",
       "      <th>Eye_X</th>\n",
       "      <th>Eye_Y</th>\n",
       "    </tr>\n",
       "  </thead>\n",
       "  <tbody>\n",
       "    <tr>\n",
       "      <th>0</th>\n",
       "      <td>814.0</td>\n",
       "      <td>1325</td>\n",
       "    </tr>\n",
       "    <tr>\n",
       "      <th>1</th>\n",
       "      <td>1295.0</td>\n",
       "      <td>1461</td>\n",
       "    </tr>\n",
       "    <tr>\n",
       "      <th>2</th>\n",
       "      <td>657.0</td>\n",
       "      <td>2089</td>\n",
       "    </tr>\n",
       "    <tr>\n",
       "      <th>3</th>\n",
       "      <td>1399.0</td>\n",
       "      <td>2223</td>\n",
       "    </tr>\n",
       "    <tr>\n",
       "      <th>4</th>\n",
       "      <td>1032.0</td>\n",
       "      <td>1911</td>\n",
       "    </tr>\n",
       "  </tbody>\n",
       "</table>\n",
       "</div>"
      ],
      "text/plain": [
       "    Eye_X  Eye_Y\n",
       "0   814.0   1325\n",
       "1  1295.0   1461\n",
       "2   657.0   2089\n",
       "3  1399.0   2223\n",
       "4  1032.0   1911"
      ]
     },
     "execution_count": 45,
     "metadata": {},
     "output_type": "execute_result"
    }
   ],
   "source": [
    "points = lg.mode().head(1).append(pg.mode().head(1)).append(ld.mode().head(1)).append(pdolny.mode().head(1)).append(m, ignore_index=True)\n",
    "points"
   ]
  },
  {
   "cell_type": "code",
   "execution_count": 46,
   "metadata": {},
   "outputs": [
    {
     "data": {
      "text/plain": [
       "[<matplotlib.lines.Line2D at 0x7f0d5c44d0f0>]"
      ]
     },
     "execution_count": 46,
     "metadata": {},
     "output_type": "execute_result"
    },
    {
     "data": {
      "image/png": "[encoded data removed]",
      "text/plain": [
       "<Figure size 432x288 with 1 Axes>"
      ]
     },
     "metadata": {
      "needs_background": "light"
     },
     "output_type": "display_data"
    }
   ],
   "source": [
    "Eye_X, Eye_Y = (df).Eye_X, (df).Eye_Y\n",
    "plt.plot(Eye_X, Eye_Y,\"o\",markersize=1)\n",
    "plt.grid(True)\n",
    "plt.plot(points.Eye_X, points.Eye_Y,\"+r\",markersize=20)"
   ]
  },
  {
   "cell_type": "code",
   "execution_count": 47,
   "metadata": {},
   "outputs": [
    {
     "data": {
      "text/html": [
       "<div>\n",
       "<style scoped>\n",
       "    .dataframe tbody tr th:only-of-type {\n",
       "        vertical-align: middle;\n",
       "    }\n",
       "\n",
       "    .dataframe tbody tr th {\n",
       "        vertical-align: top;\n",
       "    }\n",
       "\n",
       "    .dataframe thead th {\n",
       "        text-align: right;\n",
       "    }\n",
       "</style>\n",
       "<table border=\"1\" class=\"dataframe\">\n",
       "  <thead>\n",
       "    <tr style=\"text-align: right;\">\n",
       "      <th></th>\n",
       "      <th>Eye_X</th>\n",
       "      <th>Eye_Y</th>\n",
       "      <th>x</th>\n",
       "      <th>y</th>\n",
       "    </tr>\n",
       "  </thead>\n",
       "  <tbody>\n",
       "    <tr>\n",
       "      <th>0</th>\n",
       "      <td>814.0</td>\n",
       "      <td>1325</td>\n",
       "      <td>0</td>\n",
       "      <td>32</td>\n",
       "    </tr>\n",
       "    <tr>\n",
       "      <th>1</th>\n",
       "      <td>1295.0</td>\n",
       "      <td>1461</td>\n",
       "      <td>1280</td>\n",
       "      <td>32</td>\n",
       "    </tr>\n",
       "    <tr>\n",
       "      <th>2</th>\n",
       "      <td>657.0</td>\n",
       "      <td>2089</td>\n",
       "      <td>0</td>\n",
       "      <td>992</td>\n",
       "    </tr>\n",
       "    <tr>\n",
       "      <th>3</th>\n",
       "      <td>1399.0</td>\n",
       "      <td>2223</td>\n",
       "      <td>1280</td>\n",
       "      <td>992</td>\n",
       "    </tr>\n",
       "    <tr>\n",
       "      <th>4</th>\n",
       "      <td>1032.0</td>\n",
       "      <td>1911</td>\n",
       "      <td>640</td>\n",
       "      <td>496</td>\n",
       "    </tr>\n",
       "  </tbody>\n",
       "</table>\n",
       "</div>"
      ],
      "text/plain": [
       "    Eye_X  Eye_Y     x    y\n",
       "0   814.0   1325     0   32\n",
       "1  1295.0   1461  1280   32\n",
       "2   657.0   2089     0  992\n",
       "3  1399.0   2223  1280  992\n",
       "4  1032.0   1911   640  496"
      ]
     },
     "execution_count": 47,
     "metadata": {},
     "output_type": "execute_result"
    }
   ],
   "source": [
    "df_pixels = points.copy()\n",
    "df_pixels['x'] = pd.Series([0, 1280, 0, 1280, 640])\n",
    "df_pixels['y'] = pd.Series([32, 32, 992, 992, 496])\n",
    "df_pixels"
   ]
  },
  {
   "cell_type": "code",
   "execution_count": 48,
   "metadata": {},
   "outputs": [],
   "source": [
    "def fit(x, a, b):\n",
    "    return a * x + b"
   ]
  },
  {
   "cell_type": "code",
   "execution_count": 49,
   "metadata": {},
   "outputs": [
    {
     "name": "stdout",
     "output_type": "stream",
     "text": [
      "[    1.99809462 -1436.81955273]\n",
      "\n",
      "[2.51698460e-01 2.70935475e+02]\n"
     ]
    }
   ],
   "source": [
    "#Obliczenie parametrów funkcji liniowej dla składowej x\n",
    "xdata_fit = np.array(df_pixels.Eye_X)\n",
    "ydata_fit = np.array(df_pixels.x)\n",
    "popt, pcov = curve_fit(fit, xdata_fit, ydata_fit)\n",
    "\n",
    "ax, bx = popt\n",
    "\n",
    "print(popt)\n",
    "print()\n",
    "print(np.sqrt(np.diag(pcov)))"
   ]
  },
  {
   "cell_type": "code",
   "execution_count": 50,
   "metadata": {},
   "outputs": [],
   "source": [
    "xfit = np.linspace(min(df_pixels.Eye_X)-100, max(df_pixels.Eye_X)+100, 2000, endpoint=True)\n",
    "yfit = fit(xfit, *popt)"
   ]
  },
  {
   "cell_type": "code",
   "execution_count": 51,
   "metadata": {},
   "outputs": [
    {
     "data": {
      "text/plain": [
       "[<matplotlib.lines.Line2D at 0x7f0d5c473da0>]"
      ]
     },
     "execution_count": 51,
     "metadata": {},
     "output_type": "execute_result"
    },
    {
     "data": {
      "image/png": "[encoded data removed]",
      "text/plain": [
       "<Figure size 432x288 with 1 Axes>"
      ]
     },
     "metadata": {
      "needs_background": "light"
     },
     "output_type": "display_data"
    }
   ],
   "source": [
    "plt.plot(xfit, yfit,\"o\",markersize=1)\n",
    "plt.grid(True)\n",
    "plt.plot(df_pixels.Eye_X, df_pixels.x,\"+r\",markersize=20)"
   ]
  },
  {
   "cell_type": "code",
   "execution_count": 52,
   "metadata": {},
   "outputs": [
    {
     "name": "stdout",
     "output_type": "stream",
     "text": [
      "[ 1.18760255e+00 -1.63102228e+03]\n",
      "\n",
      "[1.71013672e-01 3.13918101e+02]\n"
     ]
    },
    {
     "data": {
      "text/plain": [
       "[<matplotlib.lines.Line2D at 0x7f0d5c398eb8>]"
      ]
     },
     "execution_count": 52,
     "metadata": {},
     "output_type": "execute_result"
    },
    {
     "data": {
      "image/png": "[encoded data removed]",
      "text/plain": [
       "<Figure size 432x288 with 1 Axes>"
      ]
     },
     "metadata": {
      "needs_background": "light"
     },
     "output_type": "display_data"
    }
   ],
   "source": [
    "#Obliczenie parametrów funkcji liniowej dla składowej y\n",
    "xdata_fit = np.array(df_pixels.Eye_Y)\n",
    "ydata_fit = np.array(df_pixels.y)\n",
    "\n",
    "popt, pcov = curve_fit(fit, xdata_fit, ydata_fit)\n",
    "print(popt)\n",
    "print()\n",
    "print(np.sqrt(np.diag(pcov)))\n",
    "\n",
    "ay, by = popt\n",
    "\n",
    "xfit = np.linspace(min(df_pixels.Eye_Y)-100, max(df_pixels.Eye_Y)+100, 2000, endpoint=True)\n",
    "yfit = fit(xfit, *popt)\n",
    "plt.plot(xfit, yfit,\"o\",markersize=1)\n",
    "plt.grid(True)\n",
    "plt.plot(df_pixels.Eye_Y, df_pixels.y,\"+r\",markersize=20)"
   ]
  },
  {
   "cell_type": "code",
   "execution_count": 53,
   "metadata": {
    "scrolled": false
   },
   "outputs": [
    {
     "data": {
      "image/png": "[encoded data removed]",
      "text/plain": [
       "<Figure size 432x288 with 1 Axes>"
      ]
     },
     "metadata": {
      "needs_background": "light"
     },
     "output_type": "display_data"
    }
   ],
   "source": [
    "df2 = df * [ax, ay] + [bx, by]\n",
    "Eye_X, Eye_Y = df2[150000:300000].Eye_X, df2[150000:300000].Eye_Y * -1\n",
    "#Eye_X, Eye_Y = df2.Eye_X, df2.Eye_Y * -1\n",
    "plt.plot(Eye_X[::20], Eye_Y[::20],\"o\",markersize=1)\n",
    "plt.grid(True)\n",
    "plt.rcParams['figure.figsize'] = [10, 8]\n",
    "plt.savefig('wojtek_odcinek_15' + \".png\")"
   ]
  },
  {
   "cell_type": "code",
   "execution_count": null,
   "metadata": {},
   "outputs": [],
   "source": []
  }
 ],
 "metadata": {
  "kernelspec": {
   "display_name": "Python 3",
   "language": "python",
   "name": "python3"
  },
  "language_info": {
   "codemirror_mode": {
    "name": "ipython",
    "version": 3
   },
   "file_extension": ".py",
   "mimetype": "text/x-python",
   "name": "python",
   "nbconvert_exporter": "python",
   "pygments_lexer": "ipython3",
   "version": "3.6.7"
  }
 },
 "nbformat": 4,
 "nbformat_minor": 2
}
